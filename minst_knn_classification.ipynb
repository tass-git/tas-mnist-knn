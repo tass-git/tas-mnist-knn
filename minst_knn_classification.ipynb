{
  "nbformat": 4,
  "nbformat_minor": 0,
  "metadata": {
    "colab": {
      "provenance": []
    },
    "kernelspec": {
      "name": "python3",
      "display_name": "Python 3"
    },
    "language_info": {
      "name": "python"
    }
  },
  "cells": [
    {
      "cell_type": "markdown",
      "source": [
        "#Imports"
      ],
      "metadata": {
        "id": "fIvlAAF8Dolc"
      }
    },
    {
      "cell_type": "code",
      "source": [
        "from sklearn.preprocessing import StandardScaler#import scaler for normalisation\n",
        "from sklearn.datasets import load_iris #getting the data\n",
        "from sklearn.model_selection import train_test_split #split data\n",
        "from sklearn.neighbors import KNeighborsClassifier #import knn\n",
        "from sklearn.metrics import accuracy_score #import accuracy score\n",
        "from sklearn.model_selection import GridSearchCV #import grid search for knn\n",
        "from sklearn.datasets import fetch_openml\n"
      ],
      "metadata": {
        "id": "jg1TTgXRDYWI"
      },
      "execution_count": 1,
      "outputs": []
    },
    {
      "cell_type": "markdown",
      "source": [
        "#Load data"
      ],
      "metadata": {
        "id": "KUxaDhvTC8Ge"
      }
    },
    {
      "cell_type": "code",
      "source": [
        "# Load the dataset ( MNIST but smaller)\n",
        "mnist=fetch_openml('mnist_784')\n",
        "x = mnist.data\n",
        "y = mnist.target\n"
      ],
      "metadata": {
        "id": "ON5TCddvC9-c"
      },
      "execution_count": 2,
      "outputs": []
    },
    {
      "cell_type": "code",
      "source": [
        "print(mnist.data.shape) #structure data\n",
        "print(mnist.target.shape) #structure target"
      ],
      "metadata": {
        "colab": {
          "base_uri": "https://localhost:8080/"
        },
        "id": "e4hfh97SF4X7",
        "outputId": "f86ef9d9-301a-4ff2-9dcb-0af96f522a18"
      },
      "execution_count": null,
      "outputs": [
        {
          "output_type": "stream",
          "name": "stdout",
          "text": [
            "(70000, 784)\n",
            "(70000,)\n"
          ]
        }
      ]
    },
    {
      "cell_type": "markdown",
      "source": [
        "#sampling(keeping only 5000 sample)"
      ],
      "metadata": {
        "id": "S8tfF7J5ftBz"
      }
    },
    {
      "cell_type": "code",
      "source": [
        "data=mnist.data.sample(5000) #echantillage 5000 data only\n",
        "target=mnist.target.iloc[list(data.index)] #taking targets of the 5000 data we kept\n"
      ],
      "metadata": {
        "id": "XtRKHqO9GOur"
      },
      "execution_count": null,
      "outputs": []
    },
    {
      "cell_type": "markdown",
      "source": [
        "#splitting data for train & test\n"
      ],
      "metadata": {
        "id": "zZw5y5N-iVPI"
      }
    },
    {
      "cell_type": "code",
      "source": [
        "from sklearn.model_selection import train_test_split #import split\n",
        "x_train,x_test,y_train,y_test=train_test_split(data,target,test_size=0.8) #split data"
      ],
      "metadata": {
        "id": "QD4qdKuzHEVb"
      },
      "execution_count": null,
      "outputs": []
    },
    {
      "cell_type": "markdown",
      "source": [
        "#creating model using knn  and testing it on diffrent neighbors"
      ],
      "metadata": {
        "id": "O-PoGq9chxmZ"
      }
    },
    {
      "cell_type": "code",
      "source": [
        "knn=KNeighborsClassifier(n_neighbors=1) #create model\n",
        "knn.fit(x_train,y_train) #fit data\n",
        "predict=knn.predict(x_test) #call function\n",
        "\n",
        "error=1-accuracy_score(y_test,predict) #add error to list\n",
        "print(\"error:\",error)"
      ],
      "metadata": {
        "colab": {
          "base_uri": "https://localhost:8080/"
        },
        "id": "TckLpCYuKhYs",
        "outputId": "e47e45d2-5649-4710-fdb8-3daec82ad655"
      },
      "execution_count": null,
      "outputs": [
        {
          "output_type": "stream",
          "name": "stdout",
          "text": [
            "error: 0.10650000000000004\n"
          ]
        }
      ]
    },
    {
      "cell_type": "code",
      "source": [
        "import numpy as np\n",
        "error=[] #list foe erroes\n",
        "for k in range (1,16):\n",
        "  print(\"for k=\",k)\n",
        "  knn=KNeighborsClassifier(n_neighbors=k) #create model\n",
        "\n",
        "  knn.fit(x_train,y_train)\n",
        "\n",
        "  err=knn.predict(x_test) #call function\n",
        "\n",
        "  error.append(1-accuracy_score(y_test,err)) #add error to list\n",
        "  print(\"error:\",error[k-1])\n",
        "  print(\"\\n\")"
      ],
      "metadata": {
        "colab": {
          "base_uri": "https://localhost:8080/"
        },
        "id": "mQNLP5upIzMV",
        "outputId": "48d4ec88-5b98-4818-d5f6-dd0a6f3d8adc"
      },
      "execution_count": null,
      "outputs": [
        {
          "output_type": "stream",
          "name": "stdout",
          "text": [
            "for k= 1\n",
            "error: 0.10650000000000004\n",
            "\n",
            "\n",
            "for k= 2\n",
            "error: 0.12524999999999997\n",
            "\n",
            "\n",
            "for k= 3\n",
            "error: 0.11475000000000002\n",
            "\n",
            "\n",
            "for k= 4\n",
            "error: 0.11224999999999996\n",
            "\n",
            "\n",
            "for k= 5\n",
            "error: 0.11450000000000005\n",
            "\n",
            "\n",
            "for k= 6\n",
            "error: 0.11650000000000005\n",
            "\n",
            "\n",
            "for k= 7\n",
            "error: 0.12024999999999997\n",
            "\n",
            "\n",
            "for k= 8\n",
            "error: 0.125\n",
            "\n",
            "\n",
            "for k= 9\n",
            "error: 0.126\n",
            "\n",
            "\n",
            "for k= 10\n",
            "error: 0.12675000000000003\n",
            "\n",
            "\n",
            "for k= 11\n",
            "error: 0.12924999999999998\n",
            "\n",
            "\n",
            "for k= 12\n",
            "error: 0.13124999999999998\n",
            "\n",
            "\n",
            "for k= 13\n",
            "error: 0.13524999999999998\n",
            "\n",
            "\n",
            "for k= 14\n",
            "error: 0.13724999999999998\n",
            "\n",
            "\n",
            "for k= 15\n",
            "error: 0.14100000000000001\n",
            "\n",
            "\n"
          ]
        }
      ]
    },
    {
      "cell_type": "code",
      "source": [
        "print(error)"
      ],
      "metadata": {
        "colab": {
          "base_uri": "https://localhost:8080/"
        },
        "id": "n0qdHl1RJiuI",
        "outputId": "792e577b-3a74-4ee2-823f-802701601a5d"
      },
      "execution_count": null,
      "outputs": [
        {
          "output_type": "stream",
          "name": "stdout",
          "text": [
            "[0.10650000000000004, 0.12524999999999997, 0.11475000000000002, 0.11224999999999996, 0.11450000000000005, 0.11650000000000005, 0.12024999999999997, 0.125, 0.126, 0.12675000000000003, 0.12924999999999998, 0.13124999999999998, 0.13524999999999998, 0.13724999999999998, 0.14100000000000001]\n"
          ]
        }
      ]
    },
    {
      "cell_type": "markdown",
      "source": [
        "#plotting errors graph"
      ],
      "metadata": {
        "id": "K9YkZ6QuiyCU"
      }
    },
    {
      "cell_type": "code",
      "source": [
        "plt.plot(range(1,16),error,marker=\"*\") #plot error vs k\n",
        "plt.xlabel(\"k\")\n",
        "plt.ylabel(\"error\")\n",
        "plt.title(\"error vs k\")"
      ],
      "metadata": {
        "colab": {
          "base_uri": "https://localhost:8080/"
        },
        "id": "-gHYLsVjMWp_",
        "outputId": "35eb1469-6dde-4e7e-b478-900633c52ffb"
      },
      "execution_count": null,
      "outputs": [
        {
          "output_type": "execute_result",
          "data": {
            "text/plain": [
              "Text(0.5, 1.0, 'error vs k')"
            ]
          },
          "metadata": {},
          "execution_count": 22
        },
        {
          "output_type": "display_data",
          "data": {
            "text/plain": [
              "<Figure size 640x480 with 1 Axes>"
            ],
            "image/png": "[encoded data removed]"
          },
          "metadata": {}
        }
      ]
    },
    {
      "cell_type": "markdown",
      "source": [
        "#finding best k for knn"
      ],
      "metadata": {
        "id": "aIDaKDmYjAgp"
      }
    },
    {
      "cell_type": "code",
      "source": [
        "best_k=np.argmin(error)+1 #find best k\n",
        "print(\"best k:\",best_k)"
      ],
      "metadata": {
        "colab": {
          "base_uri": "https://localhost:8080/"
        },
        "id": "Ky49vWPcNufh",
        "outputId": "b2580fbd-820d-4d2f-983d-226787884635"
      },
      "execution_count": null,
      "outputs": [
        {
          "output_type": "stream",
          "name": "stdout",
          "text": [
            "best k: 1\n"
          ]
        }
      ]
    },
    {
      "cell_type": "markdown",
      "source": [
        "#creating model with best neighbors number"
      ],
      "metadata": {
        "id": "ag7Ine8Jjgmj"
      }
    },
    {
      "cell_type": "code",
      "source": [
        "best_knn=KNeighborsClassifier(n_neighbors=best_k) #create model\n",
        "best_knn.fit(x_train,y_train) #fit data\n",
        "\n",
        "y_pred_best=best_knn.predict(x_test) #call function\n",
        "\n",
        "error_best=1-accuracy_score(y_test,y_pred_best) #add error to list\n",
        "print(\"error with best k:\",error_best)"
      ],
      "metadata": {
        "colab": {
          "base_uri": "https://localhost:8080/"
        },
        "id": "yDFjXSsKN3H0",
        "outputId": "805ef6f3-b532-4fed-c773-f04f44b9a8dd"
      },
      "execution_count": null,
      "outputs": [
        {
          "output_type": "stream",
          "name": "stdout",
          "text": [
            "error with best k: 0.10650000000000004\n"
          ]
        }
      ]
    },
    {
      "cell_type": "markdown",
      "source": [
        "#prediction\n"
      ],
      "metadata": {
        "id": "nYSB4Figjt6D"
      }
    },
    {
      "cell_type": "code",
      "source": [
        "predicted=y_pred_best"
      ],
      "metadata": {
        "id": "az66h6U2OPIF"
      },
      "execution_count": null,
      "outputs": []
    },
    {
      "cell_type": "code",
      "source": [
        "images=x_test.values.reshape((-1,28,28)) #reshape data\n",
        "select=np.random.randint(images.shape[0],size=12) #select 12 random images"
      ],
      "metadata": {
        "id": "Fe4f_eT3OVtk"
      },
      "execution_count": null,
      "outputs": []
    },
    {
      "cell_type": "code",
      "source": [
        "fig,ax=plt.subplots(3,4)\n",
        "for i,v in enumerate(select):\n",
        "  plt.subplot(3,4,i+1)\n",
        "  plt.imshow(images[v],cmap=\"gray\", interpolation=\"nearest\")\n",
        "  plt.axis(\"off\")\n",
        "  plt.title(f'predicted:{predicted[v]}')\n",
        "plt.show()"
      ],
      "metadata": {
        "colab": {
          "base_uri": "https://localhost:8080/",
          "height": 428
        },
        "id": "koc8czHIOmsa",
        "outputId": "a901dbd1-6492-4258-fd4a-c878c013bdf3"
      },
      "execution_count": null,
      "outputs": [
        {
          "output_type": "display_data",
          "data": {
            "text/plain": [
              "<Figure size 640x480 with 12 Axes>"
            ],
            "image/png": "[encoded data removed]"
          },
          "metadata": {}
        }
      ]
    },
    {
      "cell_type": "markdown",
      "source": [
        "#recreating model with best k for larger data samples & testing it"
      ],
      "metadata": {
        "id": "R5SXkjWvj-ht"
      }
    },
    {
      "cell_type": "code",
      "source": [
        "for sample in[10000,20000,40000]:\n",
        "  larger_data=mnist.data.sample(sample)\n",
        "  larger_target=mnist.target.iloc[list(larger_data.index)]\n",
        "  x_train,x_test,y_train,y_test=train_test_split(larger_data,larger_target,test_size=0.8)\n",
        "  best_knn=KNeighborsClassifier(n_neighbors=best_k)\n",
        "  best_knn.fit(x_train,y_train)\n",
        "  y_pred_best=best_knn.predict(x_test)\n",
        "  error_b=1-accuracy_score(y_test,y_pred_best)\n",
        "  print(\"error with best k:\",error_b)\n"
      ],
      "metadata": {
        "colab": {
          "base_uri": "https://localhost:8080/"
        },
        "id": "p0_A0Q6HPxjV",
        "outputId": "a90884e6-6b29-4160-8b73-6042b05e64af"
      },
      "execution_count": null,
      "outputs": [
        {
          "output_type": "stream",
          "name": "stdout",
          "text": [
            "error with best k: 0.08450000000000002\n",
            "error with best k: 0.07187500000000002\n",
            "error with best k: 0.05343750000000003\n"
          ]
        }
      ]
    },
    {
      "cell_type": "code",
      "source": [
        "e=[]\n",
        "for k in range(1,16):\n",
        "  print(\"for k=\",k)\n",
        "  knn=KNeighborsClassifier(n_neighbors=k) #create model\n",
        "\n",
        "  knn.fit(x_train,y_train)\n",
        "\n",
        "  err=knn.predict(x_test) #call function\n",
        "\n",
        "  e.append(1-accuracy_score(y_test,err)) #add error to list\n",
        "  print(\"error:\",e[k-1])\n",
        "  print(\"\\n\")"
      ],
      "metadata": {
        "colab": {
          "base_uri": "https://localhost:8080/"
        },
        "id": "782xAlgr9kDg",
        "outputId": "dcb5633c-cc3f-43ca-af3e-23289cee74f5"
      },
      "execution_count": null,
      "outputs": [
        {
          "output_type": "stream",
          "name": "stdout",
          "text": [
            "for k= 1\n",
            "error: 0.05343750000000003\n",
            "\n",
            "\n",
            "for k= 2\n",
            "error: 0.06628124999999996\n",
            "\n",
            "\n",
            "for k= 3\n",
            "error: 0.055781250000000004\n",
            "\n",
            "\n",
            "for k= 4\n",
            "error: 0.05812499999999998\n",
            "\n",
            "\n",
            "for k= 5\n",
            "error: 0.05712499999999998\n",
            "\n",
            "\n",
            "for k= 6\n",
            "error: 0.06006250000000002\n",
            "\n",
            "\n",
            "for k= 7\n",
            "error: 0.06059375\n",
            "\n",
            "\n",
            "for k= 8\n",
            "error: 0.06187500000000001\n",
            "\n",
            "\n",
            "for k= 9\n",
            "error: 0.06218749999999995\n",
            "\n",
            "\n",
            "for k= 10\n",
            "error: 0.06356249999999997\n",
            "\n",
            "\n",
            "for k= 11\n",
            "error: 0.06478125000000001\n",
            "\n",
            "\n",
            "for k= 12\n",
            "error: 0.06646874999999997\n",
            "\n",
            "\n",
            "for k= 13\n",
            "error: 0.06828124999999996\n",
            "\n",
            "\n",
            "for k= 14\n",
            "error: 0.06828124999999996\n",
            "\n",
            "\n",
            "for k= 15\n",
            "error: 0.07037499999999997\n",
            "\n",
            "\n"
          ]
        }
      ]
    },
    {
      "cell_type": "code",
      "source": [
        "plt.plot(range(1,16),e,marker=\"o\") #plot error vs k\n",
        "plt.xlabel(\"k\")\n",
        "plt.ylabel(\"error\")\n",
        "plt.title(\"error vs k\")"
      ],
      "metadata": {
        "colab": {
          "base_uri": "https://localhost:8080/",
          "height": 489
        },
        "id": "sG25dV0l8FLH",
        "outputId": "a1fce5be-4053-4542-9551-e73ab0514579"
      },
      "execution_count": null,
      "outputs": [
        {
          "output_type": "execute_result",
          "data": {
            "text/plain": [
              "Text(0.5, 1.0, 'error vs k')"
            ]
          },
          "metadata": {},
          "execution_count": 30
        },
        {
          "output_type": "display_data",
          "data": {
            "text/plain": [
              "<Figure size 640x480 with 1 Axes>"
            ],
            "image/png": "[encoded data removed]"
          },
          "metadata": {}
        }
      ]
    },
    {
      "cell_type": "code",
      "source": [
        "print(x.shape[0])\n",
        "print(y.shape[0])"
      ],
      "metadata": {
        "colab": {
          "base_uri": "https://localhost:8080/"
        },
        "id": "WakZZVoP86TZ",
        "outputId": "58d323ee-3d9b-49b6-d1c7-bc9094c09a71"
      },
      "execution_count": null,
      "outputs": [
        {
          "output_type": "stream",
          "name": "stdout",
          "text": [
            "70000\n",
            "70000\n"
          ]
        }
      ]
    },
    {
      "cell_type": "code",
      "source": [
        "b_k=np.argmin(e)+1\n",
        "print(\"best k is: \",b_k)"
      ],
      "metadata": {
        "colab": {
          "base_uri": "https://localhost:8080/"
        },
        "id": "nrllkOgL_bQJ",
        "outputId": "8240dc95-aeb4-438f-ac2c-46b48461b08f"
      },
      "execution_count": null,
      "outputs": [
        {
          "output_type": "stream",
          "name": "stdout",
          "text": [
            "best k is:  1\n"
          ]
        }
      ]
    },
    {
      "cell_type": "code",
      "source": [
        "b_knn=KNeighborsClassifier(n_neighbors=b_k) #create model\n",
        "b_knn.fit(x_train,y_train) #fit data\n",
        "\n",
        "y_pred_b=b_knn.predict(x_test) #call function\n",
        "\n",
        "error_b=1-accuracy_score(y_test,y_pred_best) #add error to list\n",
        "print(\"error with best k:\",error_b)"
      ],
      "metadata": {
        "colab": {
          "base_uri": "https://localhost:8080/"
        },
        "id": "FOyDTdH0_3qp",
        "outputId": "81bf65ca-2be5-4c09-9e3a-02f147e3dee0"
      },
      "execution_count": null,
      "outputs": [
        {
          "output_type": "stream",
          "name": "stdout",
          "text": [
            "error with best k: 0.05343750000000003\n"
          ]
        }
      ]
    },
    {
      "cell_type": "code",
      "source": [
        "img=x_test.values.reshape((-1,28,28)) #reshape data\n",
        "select2=np.random.randint(img.shape[0],size=12) #select 12 random images\n",
        "fig,ax=plt.subplots(3,4)\n",
        "for i,v in enumerate(select):\n",
        "  plt.subplot(3,4,i+1)\n",
        "  plt.imshow(images[v],cmap=\"gray\", interpolation=\"nearest\")\n",
        "  plt.axis(\"off\")\n",
        "  plt.title(f'predicted:{predicted[v]}')\n",
        "plt.show()"
      ],
      "metadata": {
        "colab": {
          "base_uri": "https://localhost:8080/",
          "height": 428
        },
        "id": "cNGlWz-HAYLo",
        "outputId": "3aa2daff-583f-4d91-90db-2b43724614fa"
      },
      "execution_count": null,
      "outputs": [
        {
          "output_type": "display_data",
          "data": {
            "text/plain": [
              "<Figure size 640x480 with 12 Axes>"
            ],
            "image/png": "[encoded data removed]"
          },
          "metadata": {}
        }
      ]
    }
  ]
}